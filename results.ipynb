{
 "cells": [
  {
   "cell_type": "code",
   "execution_count": null,
   "id": "48c71eb6",
   "metadata": {},
   "outputs": [],
   "source": [
    "from envs.test_env import Electric_Car\n",
    "from models.baseline import BaselineModel\n",
    "from models.baseline2 import BaselineModel2\n",
    "import pandas as pd\n",
    "import matplotlib.pyplot as plt\n",
    "import numpy as np"
   ]
  },
  {
   "cell_type": "code",
   "execution_count": null,
   "id": "75114b12",
   "metadata": {},
   "outputs": [],
   "source": [
    "def print_func(states, rewards, infos):\n",
    "    batteries = np.array(states)[:, 0]\n",
    "    prices = np.array(states)[:, 1]\n",
    "    for i in range(450):\n",
    "        print('t=%d, battery=%.2f, price=%.2f, action=%d, rewards=%.2f, hour=%d'%(i, batteries[i], prices[i], infos[i], rewards[i], states[i][2]))\n",
    "    \n",
    "    \n",
    "    #print('total reward = ', sum(rewards))\n",
    "    \n",
    "    '''for i in range(len(battery)):\n",
    "        if actions[i] != 25:\n",
    "            hour = i%24\n",
    "            print('t=%d, hour=%d battery=%.2f, price=%.2f, action=%d, rewards=%.2f'%(i, hour, battery[i], prices[i], actions[i], rewards[i]))\n",
    "    '''\n",
    "    \n",
    "    return\n",
    "\n",
    "def plot_func(states, rewards, infos):\n",
    "    batteries = np.array(states)[:, 0]\n",
    "    prices = np.array(states)[:, 1]\n",
    "    print(batteries)\n",
    "    print(prices)\n",
    "    x = range(len(states))\n",
    "    charging = np.insert(np.diff(batteries), 0, 0)\n",
    "    cum_rewards = np.cumsum(np.array(rewards))\n",
    "    \n",
    "    fig, axis = plt.subplots(2,3, figsize=(12,8))\n",
    "    for ax, val, name in zip(axis.flat, \n",
    "                             [batteries, charging, prices, infos, rewards, cum_rewards],\n",
    "                               ['Battery', 'Charging', 'Prices', 'Actions', 'Rewards', 'Cumulative rewards']):\n",
    "        ax.scatter(x, val, s=1)\n",
    "        ax.set_title(name)\n",
    "    plt.show()\n",
    "    \n",
    "    \n",
    "    plt.figure(figsize=(12, 6))\n",
    "    col = np.where(np.array(infos)>0,'red',np.where(np.array(infos)<0, 'green', '#FF000000'))\n",
    "    plt.ylim(0, 300)\n",
    "    plt.xlim(0, 450)\n",
    "    plt.scatter(x, prices, c = col,s = 40, zorder=1)\n",
    "    plt.plot(x, prices, zorder =0, alpha=0.8)\n",
    "    upper_line = np.full(shape=len(states), fill_value=104.67949999999989, dtype=np.float64)\n",
    "    lower_line = np.full(shape=len(states), fill_value=39.99, dtype=np.float64)\n",
    "    plt.plot(x, upper_line, c= \"green\", alpha=0.5)\n",
    "    plt.plot(x, lower_line, c= \"red\", alpha=0.5, zorder=1)\n",
    "    plt.ylabel('Price in Euro')\n",
    "    plt.xlabel('Time')\n",
    "    plt.show()\n",
    "\n",
    "    plt.figure(figsize=(12, 6))\n",
    "    plt.plot(x, cum_rewards)\n",
    "    plt.xlabel('Time')\n",
    "    plt.ylabel('Cumulative Reward in Euro')\n",
    "\n",
    "    return\n"
   ]
  },
  {
   "cell_type": "code",
   "execution_count": null,
   "id": "dac7111d",
   "metadata": {},
   "outputs": [],
   "source": [
    "min_thres = [0.05, 0.10, 0.15, 0.2, 0.25, 0.3, 0.35, 0.4, 0.45]\n",
    "max_thres = [0.55, 0.6, 0.65, 0.7, 0.75, 0.8, 0.85, 0.9, 0.95]\n",
    "\n",
    "\n",
    "Rewards = []\n",
    "for Min in min_thres:\n",
    "    for Max in max_thres:\n",
    "            env = Electric_Car('data/train.xlsx')\n",
    "            model = BaselineModel(env, Min, Max)\n",
    "            states, rewards, terminated, truncated, infos  = learn(env, model)\n",
    "            Rewards.append([sum(rewards), Min, Max])\n",
    "\n",
    "            #print_func(battery, prices, actions, rewards)\n",
    "            #plot_func(battery, prices, actions, rewards)\n",
    "            \n",
    "    max_idx = np.argmax(np.array(Rewards)[:,0])\n",
    "    print(Rewards[max_idx])"
   ]
  },
  {
   "cell_type": "code",
   "execution_count": null,
   "id": "ba3efc59",
   "metadata": {},
   "outputs": [],
   "source": [
    "env = Electric_Car('data/train.xlsx')\n",
    "model = BaselineModel(env, 0.1, 0.95)\n",
    "states, rewards, terminated, truncated, infos = learn(env, model)\n",
    "plot_func(states, rewards, infos)\n"
   ]
  },
  {
   "cell_type": "code",
   "execution_count": null,
   "id": "7d4fa9a3",
   "metadata": {},
   "outputs": [],
   "source": [
    "env = Electric_Car('data/train.xlsx')\n",
    "model = BaselineModel2(env)\n",
    "states2, rewards2, terminated2, truncated2, infos2 = learn(env, model)\n",
    "print(sum(rewards2))"
   ]
  },
  {
   "cell_type": "code",
   "execution_count": null,
   "id": "d5661da2",
   "metadata": {},
   "outputs": [],
   "source": [
    "plot_func(states2, rewards2, infos2)"
   ]
  },
  {
   "cell_type": "code",
   "execution_count": null,
   "id": "4df076a3",
   "metadata": {},
   "outputs": [],
   "source": [
    "plt.figure(figsize=(12, 6))\n",
    "battery = np.array(states2)[:, 0]\n",
    "x = range(len(battery))\n",
    "cum_rewards = np.cumsum(np.array(rewards))\n",
    "cum_rewards2 = np.cumsum(np.array(rewards2))\n",
    "plt.plot(x, cum_rewards - cum_rewards2, label = 'Profit Baseline Model vs 7 AM buying')\n",
    "#plt.plot(x, cum_rewards2, label = 'Buying at 7AM')\n",
    "plt.legend(fontsize = 12)\n",
    "plt.xlabel('Time')\n",
    "plt.ylabel('Profit in Euro')"
   ]
  }
 ],
 "metadata": {
  "kernelspec": {
   "display_name": "Python 3 (ipykernel)",
   "language": "python",
   "name": "python3"
  },
  "language_info": {
   "codemirror_mode": {
    "name": "ipython",
    "version": 3
   },
   "file_extension": ".py",
   "mimetype": "text/x-python",
   "name": "python",
   "nbconvert_exporter": "python",
   "pygments_lexer": "ipython3",
   "version": "3.9.7"
  }
 },
 "nbformat": 4,
 "nbformat_minor": 5
}
