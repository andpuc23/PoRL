{
 "cells": [
  {
   "cell_type": "code",
   "execution_count": 1,
   "metadata": {},
   "outputs": [],
   "source": [
    "from environment import Environment\n",
    "from models.baseline import BaselineModel\n",
    "import pandas as pd"
   ]
  },
  {
   "cell_type": "code",
   "execution_count": 2,
   "metadata": {},
   "outputs": [],
   "source": [
    "data = pd.read_csv('data/train_preprocessed.csv')\n",
    "test_data = pd.read_csv('data/validate_preprocessed.csv')"
   ]
  },
  {
   "cell_type": "code",
   "execution_count": 7,
   "metadata": {},
   "outputs": [],
   "source": [
    "def learn(env, model, t_max):\n",
    "    rewards = []\n",
    "    battery = []\n",
    "    revenues = []\n",
    "    i=0\n",
    "    obs, reward = env.reset(data)\n",
    "    rewards.append(reward)\n",
    "    battery.append(obs['battery'])\n",
    "    revenues.append(0)\n",
    "    \n",
    "    while i<t_max:\n",
    "        action = model.predict(data, obs)        \n",
    "        obs, reward = env.step(action, data)\n",
    "        \n",
    "        rewards.append(reward)\n",
    "        battery.append(obs['battery'])\n",
    "        if action < 25: #sell\n",
    "            revenue = -(action-25)*obs['price']\n",
    "        elif action > 25: #buy\n",
    "            revenue = -2*(action-25)*obs['price']\n",
    "        else:\n",
    "            revenue = 0\n",
    "        revenues.append(revenue)\n",
    "        i+=1\n",
    "    \n",
    "    for i in range(10):\n",
    "        print('t=%d, rewards=%.2f, battery =%.2f, revenue=%.2f'%(i, rewards[i], battery[i], revenues[i]))\n",
    "    \n",
    "    return"
   ]
  },
  {
   "cell_type": "code",
   "execution_count": 8,
   "metadata": {},
   "outputs": [
    {
     "name": "stdout",
     "output_type": "stream",
     "text": [
      "t=0, rewards=0.00, battery =20.00, revenue=0.00\n",
      "t=1, rewards=-193.95, battery =42.50, revenue=-1215.50\n",
      "t=2, rewards=-193.95, battery =65.00, revenue=-1085.50\n",
      "t=3, rewards=-76.95, battery =87.50, revenue=-421.00\n",
      "t=4, rewards=521.10, battery =110.00, revenue=-0.50\n",
      "t=5, rewards=899.55, battery =132.50, revenue=-0.50\n",
      "t=6, rewards=899.55, battery =155.00, revenue=-1.00\n",
      "t=7, rewards=899.10, battery =177.50, revenue=-0.50\n",
      "t=8, rewards=899.55, battery =200.00, revenue=-0.50\n",
      "t=9, rewards=899.55, battery =222.50, revenue=-315.50\n"
     ]
    }
   ],
   "source": [
    "env = Environment(data)\n",
    "model = BaselineModel(test_data)\n",
    "t_max = 100\n",
    "\n",
    "learn(env, model, t_max)"
   ]
  },
  {
   "cell_type": "code",
   "execution_count": null,
   "metadata": {},
   "outputs": [],
   "source": []
  },
  {
   "cell_type": "code",
   "execution_count": null,
   "metadata": {},
   "outputs": [],
   "source": []
  }
 ],
 "metadata": {
  "kernelspec": {
   "display_name": "Python 3",
   "language": "python",
   "name": "python3"
  },
  "language_info": {
   "codemirror_mode": {
    "name": "ipython",
    "version": 3
   },
   "file_extension": ".py",
   "mimetype": "text/x-python",
   "name": "python",
   "nbconvert_exporter": "python",
   "pygments_lexer": "ipython3",
   "version": "3.8.8"
  }
 },
 "nbformat": 4,
 "nbformat_minor": 2
}
