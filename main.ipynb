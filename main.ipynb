{
 "cells": [
  {
   "cell_type": "code",
   "execution_count": 1,
   "metadata": {},
   "outputs": [],
   "source": [
    "from environment import Environment\n",
    "from models.baseline import BaselineModel\n",
    "import pandas as pd\n",
    "import matplotlib.pyplot as plt\n",
    "import numpy as np"
   ]
  },
  {
   "cell_type": "code",
   "execution_count": 2,
   "metadata": {},
   "outputs": [],
   "source": [
    "data = pd.read_csv('data/train_preprocessed.csv')\n",
    "test_data = pd.read_csv('data/validate_preprocessed.csv')"
   ]
  },
  {
   "cell_type": "code",
   "execution_count": 11,
   "metadata": {},
   "outputs": [],
   "source": [
    "def print_func(battery, prices, actions, rewards, revenues):\n",
    "    '''for i in range(100):\n",
    "        print('t=%d, battery=%.2f, price=%.2f, action=%d, rewards=%.2f, revenue=%.2f'%(i, battery[i], prices[i], actions[i], rewards[i], revenues[i]))\n",
    "    '''\n",
    "    \n",
    "    print('total reward = ', sum(rewards))\n",
    "    print('total revenue = ', sum(revenues))\n",
    "    for i in range(len(battery)):\n",
    "        if actions[i] != 25:\n",
    "            hour = i%24\n",
    "            print('t=%d, hour=%d battery=%.2f, price=%.2f, action=%d, rewards=%.2f, revenue=%.2f'%(i, hour, battery[i], prices[i], actions[i], rewards[i], revenues[i]))\n",
    "    \n",
    "    return\n",
    "\n",
    "def plot_func(battery, prices, actions, rewards, revenues):\n",
    "    x = range(len(battery))\n",
    "    \n",
    "    fig, axis = plt.subplots(2,3, figsize=(12,8))\n",
    "    for ax, val, name in zip(axis.flat, \n",
    "                             [battery, prices, actions, rewards, revenues],\n",
    "                               ['Battery', 'Prices', 'Actions', 'Rewards', 'Revenues']):\n",
    "        ax.scatter(x, val, s=1)\n",
    "        ax.set_title(name)\n",
    "    plt.show()"
   ]
  },
  {
   "cell_type": "code",
   "execution_count": 12,
   "metadata": {},
   "outputs": [],
   "source": [
    "def learn(env, model, t_max):\n",
    "    rewards, battery, revenues, actions, prices = [], [], [], [], []\n",
    "    i=0\n",
    "    obs, reward = env.reset(data)\n",
    "    \n",
    "    while i<t_max:\n",
    "        action = model.predict(data, obs)\n",
    "        battery.append(obs['battery'])\n",
    "        prices.append(obs['price'])\n",
    "        \n",
    "        obs, reward = env.step(action, data)\n",
    "        \n",
    "        actions.append(action)\n",
    "        rewards.append(reward)\n",
    "        \n",
    "        if action < 25: #sell\n",
    "            revenue = -(action-25)*prices[-1]\n",
    "        elif action > 25: #buy\n",
    "            revenue = -2*(action-25)*prices[-1] #obs['price']\n",
    "        else:\n",
    "            revenue = 0\n",
    "        revenues.append(revenue)\n",
    "\n",
    "        i+=1\n",
    "        \n",
    "    #print_func(battery, prices, actions, rewards, revenues)\n",
    "    plot_func(battery, prices, actions, rewards, revenues)\n",
    "    \n",
    "    return"
   ]
  },
  {
   "cell_type": "code",
   "execution_count": 16,
   "metadata": {},
   "outputs": [
    {
     "name": "stdout",
     "output_type": "stream",
     "text": [
      "total reward =  -1793.6472222222221\n",
      "total revenue =  -2253.35\n",
      "t=0, hour=0 battery=20.00, price=24.31, action=50, rewards=-795.00, revenue=-1215.50\n",
      "t=1, hour=1 battery=45.00, price=24.31, action=30, rewards=-159.00, revenue=-243.10\n",
      "t=42, hour=18 battery=50.00, price=59.69, action=0, rewards=1118.02, revenue=1492.25\n",
      "t=45, hour=21 battery=25.00, price=36.22, action=50, rewards=-1456.67, revenue=-1811.00\n",
      "t=66, hour=18 battery=50.00, price=60.99, action=0, rewards=1147.28, revenue=1524.75\n",
      "t=69, hour=21 battery=25.00, price=34.51, action=50, rewards=-1361.67, revenue=-1725.50\n",
      "t=90, hour=18 battery=50.00, price=58.99, action=0, rewards=1102.28, revenue=1474.75\n",
      "t=93, hour=21 battery=25.00, price=35.00, action=50, rewards=-1388.89, revenue=-1750.00\n"
     ]
    },
    {
     "data": {
      "image/png": "[encoded data removed]",
      "text/plain": [
       "<Figure size 864x576 with 6 Axes>"
      ]
     },
     "metadata": {
      "needs_background": "light"
     },
     "output_type": "display_data"
    }
   ],
   "source": [
    "env = Environment(data)\n",
    "model = BaselineModel(test_data)\n",
    "t_max = 24*4\n",
    "\n",
    "learn(env, model, t_max)"
   ]
  },
  {
   "cell_type": "code",
   "execution_count": null,
   "metadata": {},
   "outputs": [],
   "source": []
  },
  {
   "cell_type": "code",
   "execution_count": null,
   "metadata": {},
   "outputs": [],
   "source": []
  }
 ],
 "metadata": {
  "kernelspec": {
   "display_name": "Python 3",
   "language": "python",
   "name": "python3"
  },
  "language_info": {
   "codemirror_mode": {
    "name": "ipython",
    "version": 3
   },
   "file_extension": ".py",
   "mimetype": "text/x-python",
   "name": "python",
   "nbconvert_exporter": "python",
   "pygments_lexer": "ipython3",
   "version": "3.8.8"
  }
 },
 "nbformat": 4,
 "nbformat_minor": 2
}
