{
 "cells": [
  {
   "cell_type": "code",
   "execution_count": 1,
   "metadata": {},
   "outputs": [],
   "source": [
    "from envs.train_env import Electric_Car\n",
    "from models.baseline import BaselineModel\n",
    "from models.baseline2 import BaselineModel2\n",
    "import pandas as pd\n",
    "import matplotlib.pyplot as plt\n",
    "import numpy as np\n",
    "from models.tabular_qlearning import TabularQLearning\n",
    "from envs.feature_engineering import DataHelper\n",
    "import torch"
   ]
  },
  {
   "cell_type": "code",
   "execution_count": 2,
   "metadata": {},
   "outputs": [],
   "source": [
    "def data_analysis():\n",
    "    data_path_train = 'data/train.xlsx'\n",
    "    df = pd.read_excel(data_path_train)\n",
    "\n",
    "    df['Month'] = df['PRICES'].dt.month\n",
    "    df['DayOfWeek'] = df['PRICES'].dt.dayofweek\n",
    "    df['AvgPerDay'] = df.iloc[:, 1:25].mean(axis=1)\n",
    "\n",
    "    monthly_avg = df.groupby('Month')['AvgPerDay'].mean()\n",
    "    day_of_week_avg = df.groupby('DayOfWeek')['AvgPerDay'].mean()\n",
    "    hourly_avg = df.iloc[:, 1:25].mean()\n",
    "\n",
    "    monthly_avg.plot(kind='bar', title='Average Price per Month',edgecolor='black')\n",
    "    plt.xlabel('Month')\n",
    "    plt.ylabel('Average Price')\n",
    "    plt.show()\n",
    "\n",
    "    day_of_week_avg.plot(kind='bar', title='Average Price per Day of the Week',edgecolor='black')\n",
    "    plt.xlabel('Day of the Week')\n",
    "    plt.ylabel('Average Price')\n",
    "    plt.show()\n",
    "\n",
    "    hourly_avg.plot(kind='bar', title='Average Price per Hour',edgecolor='black')\n",
    "    plt.xlabel('Hour')\n",
    "    plt.ylabel('Average Price')\n",
    "    plt.show()\n"
   ]
  },
  {
   "cell_type": "code",
   "execution_count": 3,
   "metadata": {},
   "outputs": [],
   "source": [
    "# dh = DataHelper()\n",
    "\n",
    "# def learn(env, model):\n",
    "#     states, rewards, infos = [], [], []\n",
    "#     truncated = False\n",
    "#     terminated = False\n",
    "#     while(terminated == False and truncated == False):\n",
    "#         action = model.predict(env)\n",
    "#         obs, reward, termination, truncation, info = env.step(action)\n",
    "#         new_obs = dh.process_data(obs)\n",
    "\n",
    "#         states.append(new_obs)\n",
    "#         rewards.append(reward)\n",
    "#         terminated = termination\n",
    "#         truncated = truncation\n",
    "#         infos.append(info)\n",
    "\n",
    "#     return states, rewards, terminated, truncated, infos"
   ]
  },
  {
   "cell_type": "code",
   "execution_count": null,
   "metadata": {
    "scrolled": true
   },
   "outputs": [
    {
     "name": "stdout",
     "output_type": "stream",
     "text": [
      "feature 0\n",
      "feature 1\n",
      "feature 2\n",
      "feature 3\n",
      "feature 4\n",
      "(3, 5, 6, 2, 3, 4)\n",
      "Please wait, the algorithm is learning! The current simulation is 0\n",
      "Average reward  -7267.8226518064985\n",
      "Please wait, the algorithm is learning! The current simulation is 5\n",
      "Average reward  -7216.760713140148\n",
      "Please wait, the algorithm is learning! The current simulation is 10\n",
      "Average reward  -6817.84336417359\n",
      "Please wait, the algorithm is learning! The current simulation is 15\n",
      "Average reward  -6169.181092806769\n",
      "Please wait, the algorithm is learning! The current simulation is 20\n",
      "Average reward  -5635.332941479353\n",
      "Please wait, the algorithm is learning! The current simulation is 25\n",
      "Average reward  -4899.024915824001\n"
     ]
    }
   ],
   "source": [
    "data_path_train = 'data/train.xlsx'\n",
    "data_path_test = 'data/validate.xlsx'\n",
    "\n",
    "simulations = 50\n",
    "simulations_per_average = 5\n",
    "learning_rate = 0.1\n",
    "epsilon = 0.05\n",
    "epsilon_decay = simulations\n",
    "adaptive_epsilon = True\n",
    "adapting_learning_rate = False\n",
    "discount_rate = 0\n",
    "\n",
    "features_Qtable = [0, 1, 2, 3, 5] #battery, price, hour, day of week, month \n",
    "bin_size = [4, 6, 7, 3, 4, 5] #bin size of features with corresponding index\n",
    "\n",
    "model = TabularQLearning(data_path_train, discount_rate, bin_size, features_Qtable)\n",
    "model.train(simulations, simulations_per_average, learning_rate, epsilon, epsilon_decay, adaptive_epsilon, adapting_learning_rate)\n",
    "#model.create_Q_table()\n",
    "#model.load_Qtable('model_checkpoints/Tabular1.npy')\n",
    "model.visualize_rewards_and_performance()"
   ]
  },
  {
   "cell_type": "code",
   "execution_count": null,
   "metadata": {},
   "outputs": [],
   "source": [
    "#model.save_Qtable('test.npy')\n",
    "actions, rewards, states, infos = model.play(data_path_test, plotting=True)"
   ]
  },
  {
   "cell_type": "code",
   "execution_count": null,
   "metadata": {},
   "outputs": [],
   "source": [
    "print('Number of entries', model.Qtable.size)\n",
    "print('Number of zeros', np.sum(model.Qtable==0))\n",
    "print('Revenue', sum(rewards))\n",
    "\n",
    "for i in range(len(features_Qtable)):\n",
    "    axes = list(range(len(features_Qtable)+1))\n",
    "    axes.remove(axes[i])\n",
    "    sums = np.sum(model.Qtable_updates, axis=tuple(axes))\n",
    "    print(sums)\n",
    "    plt.bar(range(len(sums)), sums, color='green', edgecolor='black')\n",
    "    plt.title('Sum of updates per cell of feature %d'%features_Qtable[i])\n",
    "    plt.show()"
   ]
  },
  {
   "cell_type": "code",
   "execution_count": null,
   "metadata": {},
   "outputs": [],
   "source": [
    "for i in range(100):\n",
    "    #state : [battery_level, price, int(hour), int(day_of_week), int(day_of_year), int(month), int(year), int(self.car_is_available)]\n",
    "    print('\\nbattery',int(states[i][0]), '  price',int(states[i][1]), '  hour',int(states[i][2]), '  availability',int(states[i][-1]))\n",
    "    print('action',infos[i])\n",
    "    print('reward',rewards[i])"
   ]
  },
  {
   "cell_type": "code",
   "execution_count": null,
   "metadata": {},
   "outputs": [],
   "source": [
    "test = [0, 49, 50]\n",
    "f = np.linspace(0, 50, 5) #bin size=5, bins = 4\n",
    "0-10 1\n",
    "10-20 2\n",
    "...\n",
    "40-49.9999 4\n",
    "50.1 5\n",
    "\n",
    "q bin size, q statespace\n",
    "#f[-1]+=0.1\n",
    "print(f)\n",
    "dig=[]\n",
    "for i in test:\n",
    "    dig.append(np.digitize(i, f)-1)\n",
    "print(dig)"
   ]
  },
  {
   "cell_type": "code",
   "execution_count": null,
   "metadata": {},
   "outputs": [],
   "source": []
  }
 ],
 "metadata": {
  "kernelspec": {
   "display_name": "Python 3",
   "language": "python",
   "name": "python3"
  },
  "language_info": {
   "codemirror_mode": {
    "name": "ipython",
    "version": 3
   },
   "file_extension": ".py",
   "mimetype": "text/x-python",
   "name": "python",
   "nbconvert_exporter": "python",
   "pygments_lexer": "ipython3",
   "version": "3.8.8"
  }
 },
 "nbformat": 4,
 "nbformat_minor": 2
}
