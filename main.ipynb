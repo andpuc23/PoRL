{
 "cells": [
  {
   "cell_type": "code",
   "execution_count": 1,
   "metadata": {},
   "outputs": [],
   "source": [
    "from environment import Environment\n",
    "from models.baseline import BaselineModel\n",
    "import pandas as pd\n",
    "import matplotlib.pyplot as plt\n",
    "import numpy as np"
   ]
  },
  {
   "cell_type": "code",
   "execution_count": 2,
   "metadata": {},
   "outputs": [],
   "source": [
    "data = pd.read_csv('data/train_preprocessed.csv')\n",
    "test_data = pd.read_csv('data/validate_preprocessed.csv')"
   ]
  },
  {
   "cell_type": "code",
   "execution_count": 3,
   "metadata": {},
   "outputs": [],
   "source": [
    "def print_func(battery, prices, actions, rewards):\n",
    "    '''for i in range(100):\n",
    "        print('t=%d, battery=%.2f, price=%.2f, action=%d, rewards=%.2f'%(i, battery[i], prices[i], actions[i], rewards[i]))\n",
    "    '''\n",
    "    \n",
    "    print('total reward = ', sum(rewards))\n",
    "    \n",
    "    '''for i in range(len(battery)):\n",
    "        if actions[i] != 25:\n",
    "            hour = i%24\n",
    "            print('t=%d, hour=%d battery=%.2f, price=%.2f, action=%d, rewards=%.2f'%(i, hour, battery[i], prices[i], actions[i], rewards[i]))\n",
    "    '''\n",
    "    \n",
    "    return\n",
    "\n",
    "def plot_func(battery, prices, actions, rewards):\n",
    "    x = range(len(battery))\n",
    "    \n",
    "    charging = np.insert(np.diff(battery), 0, 0)\n",
    "    cum_rewards = np.cumsum(np.array(rewards))\n",
    "    \n",
    "    fig, axis = plt.subplots(2,3, figsize=(12,8))\n",
    "    for ax, val, name in zip(axis.flat, \n",
    "                             [battery, charging, prices, actions, rewards, cum_rewards],\n",
    "                               ['Battery', 'Charging', 'Prices', 'Actions', 'Rewards', 'Cumulative rewards']):\n",
    "        ax.scatter(x, val, s=1)\n",
    "        ax.set_title(name)\n",
    "    plt.show()\n",
    "\n",
    "    return\n"
   ]
  },
  {
   "cell_type": "code",
   "execution_count": 4,
   "metadata": {},
   "outputs": [],
   "source": [
    "def learn(env, model, t_max):\n",
    "    rewards, battery, revenues, actions, prices = [], [], [], [], []\n",
    "    i=0\n",
    "    obs, reward = env.reset()\n",
    "    \n",
    "    while i<t_max:\n",
    "        action = model.predict(obs)\n",
    "        battery.append(obs['battery'])\n",
    "        prices.append(obs['price'])\n",
    "        \n",
    "        obs, reward, finished = env.step(action)\n",
    "        \n",
    "        actions.append(action)\n",
    "        rewards.append(reward)\n",
    "        i+=1\n",
    "    \n",
    "    return battery, prices, actions, rewards"
   ]
  },
  {
   "cell_type": "code",
   "execution_count": 21,
   "metadata": {},
   "outputs": [],
   "source": [
    "min_thres = [0.05, 0.10, 0.15, 0.2, 0.25, 0.3, 0.35, 0.4, 0.45]\n",
    "max_thres = [0.55, 0.6, 0.65, 0.7, 0.75, 0.8, 0.85, 0.9, 0.95]\n",
    "\n",
    "\n",
    "rewards = []\n",
    "for Min in min_thres:\n",
    "    for Max in max_thres:\n",
    "            env = Environment(test_data)\n",
    "            model = BaselineModel(data, Min, Max)\n",
    "            t_max = 100\n",
    "            reward = learn(env, model, t_max)[3]\n",
    "            rewards.append([sum(reward), Min, Max])\n",
    "            \n",
    "\n",
    "    #print_func(battery, prices, actions, rewards)\n",
    "    #plot_func(battery, prices, actions, rewards)"
   ]
  },
  {
   "cell_type": "code",
   "execution_count": 27,
   "metadata": {},
   "outputs": [
    {
     "name": "stdout",
     "output_type": "stream",
     "text": [
      "[5760.721798106037, 0.15, 0.6]\n"
     ]
    }
   ],
   "source": [
    "np.argmax(np.array(rewards)[:,0])\n",
    "print(rewards[19])"
   ]
  },
  {
   "cell_type": "code",
   "execution_count": null,
   "metadata": {},
   "outputs": [],
   "source": []
  }
 ],
 "metadata": {
  "kernelspec": {
   "display_name": "Python 3",
   "language": "python",
   "name": "python3"
  },
  "language_info": {
   "codemirror_mode": {
    "name": "ipython",
    "version": 3
   },
   "file_extension": ".py",
   "mimetype": "text/x-python",
   "name": "python",
   "nbconvert_exporter": "python",
   "pygments_lexer": "ipython3",
   "version": "3.8.8"
  }
 },
 "nbformat": 4,
 "nbformat_minor": 2
}
