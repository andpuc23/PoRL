{
 "cells": [
  {
   "cell_type": "code",
   "execution_count": 1,
   "metadata": {},
   "outputs": [],
   "source": [
    "from envs.test_env import Electric_Car\n",
    "from models.baseline import BaselineModel\n",
    "from models.baseline2 import BaselineModel2\n",
    "import pandas as pd\n",
    "import matplotlib.pyplot as plt\n",
    "import numpy as np\n",
    "\n",
    "from envs.feature_engineering import DataHelper"
   ]
  },
  {
   "cell_type": "code",
   "execution_count": 4,
   "metadata": {},
   "outputs": [],
   "source": [
    "dh = DataHelper()\n",
    "\n",
    "def learn(env, model):\n",
    "    states, rewards, infos = [], [], []\n",
    "    truncated = False\n",
    "    terminated = False\n",
    "    while(terminated == False and truncated == False):\n",
    "        action = model.predict(env)\n",
    "        obs, reward, termination, truncation, info = env.step(action)\n",
    "        new_obs = dh.process_data(obs)\n",
    "\n",
    "        states.append(new_obs)\n",
    "        rewards.append(reward)\n",
    "        terminated = termination\n",
    "        truncated = truncation\n",
    "        infos.append(info)\n",
    "\n",
    "    \n",
    "    return states, rewards, terminated, truncated, infos"
   ]
  }
 ],
 "metadata": {
  "kernelspec": {
   "display_name": "Python 3",
   "language": "python",
   "name": "python3"
  },
  "language_info": {
   "codemirror_mode": {
    "name": "ipython",
    "version": 3
   },
   "file_extension": ".py",
   "mimetype": "text/x-python",
   "name": "python",
   "nbconvert_exporter": "python",
   "pygments_lexer": "ipython3",
   "version": "3.9.13"
  }
 },
 "nbformat": 4,
 "nbformat_minor": 2
}
