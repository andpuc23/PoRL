{
 "cells": [
  {
   "cell_type": "code",
   "execution_count": 2,
   "metadata": {},
   "outputs": [
    {
     "name": "stderr",
     "output_type": "stream",
     "text": [
      "c:\\Users\\snipercapt\\AppData\\Local\\Programs\\Python\\Python39\\lib\\site-packages\\tqdm\\auto.py:21: TqdmWarning: IProgress not found. Please update jupyter and ipywidgets. See https://ipywidgets.readthedocs.io/en/stable/user_install.html\n",
      "  from .autonotebook import tqdm as notebook_tqdm\n"
     ]
    },
    {
     "name": "stdout",
     "output_type": "stream",
     "text": [
      "Please wait, the experience replay buffer will be filled with random transitions\n",
      "Initialization with random transitions is done!\n"
     ]
    },
    {
     "data": {
      "text/plain": [
       "<All keys matched successfully>"
      ]
     },
     "execution_count": 2,
     "metadata": {},
     "output_type": "execute_result"
    }
   ],
   "source": [
    "from models.DeepQLearning import DDQNAgent, training_loop\n",
    "from envs.test_env import Electric_Car\n",
    "import torch\n",
    "from tqdm import tqdm\n",
    "import numpy as np\n",
    "test_env = Electric_Car('data/validate.xlsx')\n",
    "train_env = Electric_Car('data/train.xlsx')\n",
    "\n",
    "max_episodes = 250_000\n",
    "eps_decay = 10_000\n",
    "eps_start = 1.0\n",
    "eps_end = .05\n",
    "discount = .5\n",
    "learning_rate = 5e-4\n",
    "buffer = 50_000\n",
    "\n",
    "\n",
    "model = DDQNAgent('data/train.xlsx', device='cpu', epsilon_decay=eps_decay, epsilon_start=eps_start,\n",
    "                   epsilon_end=eps_end, discount_rate=discount, lr=learning_rate, buffer_size=buffer)\n",
    "model.init_envs(train_env)\n",
    "training_loop(train_env, model, max_episodes)\n",
    "torch.save(model.target_network.state_dict(), 'model_checkpoints/discount_05.pth')"
   ]
  },
  {
   "cell_type": "code",
   "execution_count": 4,
   "metadata": {},
   "outputs": [
    {
     "name": "stderr",
     "output_type": "stream",
     "text": [
      "100%|██████████| 10/10 [00:32<00:00,  3.26s/it]\n"
     ]
    },
    {
     "data": {
      "text/plain": [
       "-656.8800555555557"
      ]
     },
     "execution_count": 4,
     "metadata": {},
     "output_type": "execute_result"
    }
   ],
   "source": [
    "sums = []\n",
    "for i in tqdm(range(10)):\n",
    "    # rews, actions = model.play_game(train_env)\n",
    "    rews, actions = model.play_game(test_env)\n",
    "    sums.append(sum(rews))\n",
    "np.mean(sums)"
   ]
  },
  {
   "cell_type": "markdown",
   "metadata": {},
   "source": [
    "|CHANGE          |TEST LOSS|   TRAIN LOSS|\n",
    "|----------|--------|---------|\n",
    "|basic|         631|         880|\n",
    "decay/2 |        636|         899|\n",
    "decay*2  |       638|        880|\n",
    "discount 0.9|    628 |        876|\n",
    "discount 0.5 |   656  |       884|\n",
    "decay/2       |  XXX   |      XXX |"
   ]
  },
  {
   "cell_type": "code",
   "execution_count": null,
   "metadata": {},
   "outputs": [],
   "source": []
  }
 ],
 "metadata": {
  "kernelspec": {
   "display_name": "Python 3",
   "language": "python",
   "name": "python3"
  },
  "language_info": {
   "codemirror_mode": {
    "name": "ipython",
    "version": 3
   },
   "file_extension": ".py",
   "mimetype": "text/x-python",
   "name": "python",
   "nbconvert_exporter": "python",
   "pygments_lexer": "ipython3",
   "version": "3.9.13"
  }
 },
 "nbformat": 4,
 "nbformat_minor": 2
}
